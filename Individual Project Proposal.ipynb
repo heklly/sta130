{
 "cells": [
  {
   "cell_type": "markdown",
   "id": "7157d807",
   "metadata": {},
   "source": [
    "STA130 Individual Project Proposal, Kelly He"
   ]
  },
  {
   "cell_type": "markdown",
   "id": "9fce19a6",
   "metadata": {},
   "source": [
    "## Research question 1:\n"
   ]
  },
  {
   "cell_type": "markdown",
   "id": "fae8c95f",
   "metadata": {},
   "source": [
    "### Variables/summary statistics/plots: \n",
    "\n",
    "- DEMO_household_income, continuous numerical (total income of all household members, including survey respondant)\n",
    "- CONNECTION_social_barriers_money, binary data (yes/no, I cannot afford to go our with people)\n",
    "- CONNECTION_social_barriers_work_too_much, binary data (yes/no, I have to work too much)\n",
    "\n",
    "I want to look at how someone’s socioeconomic variables factor into their loneliness; specifically how it creates barriers to forming relationships, both as close friends and acquaintances. To do this, I look at their household income as a measure of socioeconomic status. factor, so I consider that. Then, I want to look at variables associated with barriers to forming connections.\n",
    "\n",
    "Some summary statistics I want to look at are:\n",
    "    \n",
    "- Mean: This would be the simplest and easiest summary statistic to look at. It would measure the percentage of people who: voted yes/no to facing economic/work related barriers to social connection.\n",
    "\n",
    "\n",
    "Plots:\n",
    "- Bar chart - For this specific research question, since I want to compare the percentages of people who responded yes for different brackets of income, and not just the frequency distribution, so a bar chart is appropriate.\n",
    "\n",
    "- Scatter plot - It may also be useful to graph just the summary statistic associated with a particular cohort as a data point on a scatter plot, and see what potential trends can be drawn or what associations there might be. In addition, I can include confidence bands for a linear fir or for individual summary statistic points.\n"
   ]
  },
  {
   "cell_type": "markdown",
   "id": "cb9d189a",
   "metadata": {},
   "source": [
    "#### How does socioeconomic status affect a person’s ability to connect with others?\n"
   ]
  },
  {
   "cell_type": "markdown",
   "id": "233bb691",
   "metadata": {},
   "source": [
    "#### Analysis\n",
    "\n",
    "I plan to analyze the variables of  “barriers to social connection” and with respect to “socioeconomic status”. To do this, I plan to group household incomes into different brackets. Possibly, per every \\\\$10,000 or \\\\$20,000 up to \\\\$200,000 will be a separate cohort, then up by \\\\$50,000 (adjusting as necessary). For example, household income of \\\\$0 - \\\\$10,000 will be one cohort.\n",
    "\n",
    "From these new subsets, I will then draw the mean in relation to another variable. Then plotting those means on a scatter plot, I can possibly use a regression model with confidence bands, to give a more complete story.\n",
    "\n",
    "There are some relevant assumptions with this analysis. One, that household income is a good measure of socioeconomic status. Two, that barriers to social connection and measures of loneliness DO NOT affect socioeconomic status, which is probability relatively untrue.\n"
   ]
  },
  {
   "cell_type": "markdown",
   "id": "e161db8b",
   "metadata": {},
   "source": [
    "#### Hypothesis"
   ]
  },
  {
   "cell_type": "markdown",
   "id": "31af2e3e",
   "metadata": {},
   "source": [
    "I hypothesize that higher household income is negatively associated with measures of barriers to social connection and loneliness.  Relating back to the research question, this would mean that a person’s class is negatively tied to the ability to make social connections. Possibly, implying that poorer people face greater levels of loneliness, due to being forced to work more and having less time to make connections."
   ]
  },
  {
   "cell_type": "markdown",
   "id": "0ae189eb",
   "metadata": {},
   "source": [
    "## Research question 2:\n"
   ]
  },
  {
   "cell_type": "markdown",
   "id": "5c3f044d",
   "metadata": {},
   "source": [
    "#### How do online relationships compare to in-person relationships in terms of their impact on health, both mentally and physically? \n"
   ]
  },
  {
   "cell_type": "markdown",
   "id": "9d0f1e14",
   "metadata": {},
   "source": [
    "### Variables/summary statistics/plots: \n",
    "\n",
    "- CONNECTION_social_num_close_friends, count numerical (total number of close friends)\n",
    "- CONNECTION_close_num_friends_meet_online, count numerical (number of close friends met online)\n",
    "- WELLNESS_heart_disease_diagnosis, binary data (been diagnosed with heart disease before)\n",
    "- WELLNESS_depression_diagnosis, binary data (been diagnosed with depression before)\n",
    "\n",
    "\n",
    "Having scoured through the CSCS data set, while there are some measures of online social connection, they are few and far between. By far the best measure of social connection is the CONNECTION_close_num_friends_meet_online variable. \n",
    "\n",
    "Then I choose some variables to measure loneliness and health. It’s well established that loneliness is positively correlated with higher rates of heart disease and depression, so I choose those variables to measure physical and mental health outcomes.\n",
    "\n",
    "\n",
    "Some summary statistics I want to look at are:\n",
    "    \n",
    "- Mean: Again, this would be the simplest and easiest summary statistic to look at. It would measure the percentage of people who: voted yes/no either heart disease or depression\n",
    "\n",
    "Plots:\n",
    "\n",
    "For this particular research question, I plan to use simple scatter plots. I’m not interested in comparing simple summary statistics or the distributions of related variables, but rather I want to compare entire trends and associations. That will be easiest by first plotting my cohorts and fitting a regression model to the data, then comparing the regression models on a separate line graph.\n"
   ]
  },
  {
   "cell_type": "markdown",
   "id": "f0a8b506",
   "metadata": {},
   "source": [
    "#### Analysis\n",
    "\n",
    "To compare the effect of online and offline relationships, I want to look at proportions of friends met online vs not online. To do this, I plan to create 4 separate cohorts: 0% of friends met online, 0%-33% of friends met online, 33%-66% of friends met online, and 66%-100% of friends met online, calculated by: \n",
    "\n",
    "CONNECTION_close_num_friends_meet_online / CONNECTION_social_num_close_friends\n",
    "\n",
    "Relevantly, the 0% cohort will act as a sort of control group, to compare to.\n",
    "\n",
    "Next, plotting the relevant cohorts on four separate scatterplots, I can fit some sort of regression model, linear or otherwise. For example, one scatterplot will be the 0% cohort looking at the number of close friends in relation to percent chance of heart disease diagnosis, one of the 33-66% cohort, etc. After (hopefully) being able to fit some sort of meaningful regression model to each, I can then plot just the regression models. Looking at the regression models together, I can then compare the effect of having a greater proportion of friends met online.\n",
    "\n",
    "There are some relevant assumptions about the data and analysis. For one, this assumes that the friends met online stay as online friends. Better put, that the friends online do not become “in-person” friends.  In addition, this analysis assumes that the number of online friends has no causal effect on the total number of friends. Again, this is probably, at least to a degree, untrue, e.g. a possible confounder is that the type of person to seek online friends may have fewer friends in general.\n",
    "\n"
   ]
  },
  {
   "cell_type": "markdown",
   "id": "5e2dbef5",
   "metadata": {},
   "source": [
    "#### Hypothesis"
   ]
  },
  {
   "cell_type": "markdown",
   "id": "f1a82756",
   "metadata": {},
   "source": [
    "Based on my analysis proposal, I hypothesize that a higher proportion of online friends will have a lower effect in decreasing heart disease and depression diagnoses. This would mean that online friends, relatively speaking, are “worth less” when looking at bettering health outcomes."
   ]
  },
  {
   "cell_type": "markdown",
   "id": "f781f201",
   "metadata": {},
   "source": [
    "## Research question 3:\n"
   ]
  },
  {
   "cell_type": "markdown",
   "id": "3341201f",
   "metadata": {},
   "source": [
    "#### How persistent is loneliness across someone’s life? In other words, does frequently experiencing loneliness in your childhood or teens predict higher levels of loneliness in later stages of life?\n",
    " \n"
   ]
  },
  {
   "cell_type": "markdown",
   "id": "6c40496c",
   "metadata": {},
   "source": [
    "### Variables/summary statistics/plots: \n",
    "\n",
    "- LONELY_lifecourse_5to12, ordered categorical (how often were respondents lonely during ages 5 to 12)\n",
    "- LONELY_lifecourse_13to18, ordered categorical (how often were respondents lonely during ages 13 to 18)\n",
    "- LONELY_direct, ordered categorical (how often did respondents feel lonely during the past week)\n",
    "\n",
    "\n",
    "These variables are the most appropriate in measuring loneliness in someone’s early stages of life, 5-13 and 13-18. In contrast, LONELY_direct is a measure of someone’s current loneliness. \n",
    "\n",
    "As before, since I’m comparing cohorts, I want to consider these summary statistics:\n",
    "- Mean\n",
    "- Standard Deviation\n",
    "\n",
    "Mean, for comparing cross-cohort. Standard deviation for each seperate cohort might be interesting to look at, giving a sense of how \"universal\" it is that early life loneliness can predict current loneliness.\n",
    "\n",
    "\n",
    "Plots\n",
    "Grouped box plots - Because I’m looking to compare summary statistics across cohorts, grouped box plots make the most sense. Each level of early-life loneliness would be one cohort.\n",
    "\n",
    "Scatter plots - For similar reasons as to wanting to draw potential trend lines. Roughly, this would predict how lonely someone would be given a certain early-life loneliness."
   ]
  },
  {
   "cell_type": "markdown",
   "id": "cd0ee77c",
   "metadata": {},
   "source": [
    "#### Analysis\n",
    "\n",
    "To compare the effects of experiencing higher levels of loneliness across early stages of life, I again need to create separate cohorts for each separate loneliness level. This cohort creation will be repeated for both 5to12 and 13to18; to get a fuller sense of what might have a stronger impact on predicting current loneliness.\n",
    "\n",
    "In addition, because the responses of LONELY_direct aren’t a single number but ordered categorical data, I will assign a number based on the intensity of current loneliness and do the analysis from there; for the grouped box plot and scatter plot. For example, 0 for “Never”, 1 for “Rarely”, 2 for “Some or a little of the time”, etc.\n",
    "\n",
    "After manipulating the data as such, I can plot the cohorts on grouped box plots and scatter plots. As the lifecourse lonely variables are also ordered categorical data, it may be possible to again assign numerical values based on the natural ordering, and from there create a trendline estimating (roughly), the association of early life loneliness to current loneliness.\n",
    "\n",
    "This analysis assumes that the participant can recall to a certain degree of accuracy, loneliness experienced in earlier stages of life. Since this analysis treats the 13to18 grouping as separate to 5to12, it also necessarily assumes that the 5to12 variable does not affect 13to18, which again, may be false.\n",
    "\n"
   ]
  },
  {
   "cell_type": "markdown",
   "id": "17d20aad",
   "metadata": {},
   "source": [
    "#### Hypothesis"
   ]
  },
  {
   "cell_type": "markdown",
   "id": "7ddf7fef",
   "metadata": {},
   "source": [
    "I hypothesize that higher levels of early life loneliness, i.e. in the 5to12 or 13to18 category, predicts higher levels of current loneliness. In terms of the research question, this means that loneliness is persistent throughout one’s life. People lonely earlier in life may be predisposed to chronic loneliness.\n"
   ]
  }
 ],
 "metadata": {
  "kernelspec": {
   "display_name": "Python 3 (ipykernel)",
   "language": "python",
   "name": "python3"
  },
  "language_info": {
   "codemirror_mode": {
    "name": "ipython",
    "version": 3
   },
   "file_extension": ".py",
   "mimetype": "text/x-python",
   "name": "python",
   "nbconvert_exporter": "python",
   "pygments_lexer": "ipython3",
   "version": "3.11.6"
  }
 },
 "nbformat": 4,
 "nbformat_minor": 5
}
